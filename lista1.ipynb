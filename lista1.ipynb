{
 "cells": [
  {
   "cell_type": "markdown",
   "metadata": {},
   "source": [
    "# Lista 1\n",
    "\n",
    "## Kurs wybranego języka programowania (Python)\n",
    "\n",
    "Wszystkie rozwiązania proszę wpisać w tym notatniku poniżej treści zadań. Zadania z `*` to zadania dodatkowe."
   ]
  },
  {
   "cell_type": "markdown",
   "metadata": {},
   "source": [
    "## Zadanie 1 _(5pt)_\n",
    "\n",
    "Napisz funkcję, który wyświetla trójkąt Pascala o zadanej wysokości\n",
    "```\n",
    "                1\n",
    "              1   1\n",
    "            1   2   1\n",
    "          1   3   3   1\n",
    "        1   4   6   4   1\n",
    "      .....................\n",
    "```"
   ]
  },
  {
   "cell_type": "code",
   "execution_count": 47,
   "metadata": {},
   "outputs": [
    {
     "name": "stdout",
     "output_type": "stream",
     "text": [
      "            1   \n",
      "          1   1   \n",
      "        1   2   1   \n",
      "      1   3   3   1   \n",
      "    1   4   6   4   1   \n"
     ]
    }
   ],
   "source": [
    "def pascal_triangle(n):\n",
    "    triangle = [[1]]\n",
    "    for i in range(1,n):\n",
    "        triangle.append(list(range(i+1)))\n",
    "        for j in range(i+1):\n",
    "            if j==0 or j==i:\n",
    "                triangle[i][j] = 1\n",
    "            else:\n",
    "                triangle[i][j] = triangle[i-1][j-1] + triangle[i-1][j]\n",
    "    \n",
    "    for rowidx, row in enumerate(triangle):\n",
    "        for i in range(n-rowidx+1):\n",
    "                print(\"  \", end=\"\")\n",
    "        for number in row:\n",
    "            print(number, end=\"   \")\n",
    "        print()\n",
    "    \n",
    "pascal_triangle(5)"
   ]
  },
  {
   "cell_type": "markdown",
   "metadata": {},
   "source": [
    "## Zadanie 2 _(5pt)_\n",
    "\n",
    "Napisz funkcję `primes(n)` zwracająca listę liczb pierwszych nie większych niż $n$ np.\n",
    "\n",
    "```\n",
    "In [ ]:   primes(6)\n",
    "Out [ ]: [2, 3, 5]\n",
    "```"
   ]
  },
  {
   "cell_type": "code",
   "execution_count": 2,
   "metadata": {},
   "outputs": [
    {
     "data": {
      "text/plain": [
       "[2, 3, 5, 7, 11, 13, 17, 19, 23, 29]"
      ]
     },
     "execution_count": 2,
     "metadata": {},
     "output_type": "execute_result"
    }
   ],
   "source": [
    "def primes(n):\n",
    "    sieve = [True for _ in range(n)]\n",
    "    sieve[0] = False\n",
    "    sieve[1] = False\n",
    "    for i in range(2, n):\n",
    "        if sieve[i]:\n",
    "            for j in range(2*i, n, i):\n",
    "                sieve[j] = False\n",
    "    return [num for num in range(n) if sieve[num]]\n",
    "\n",
    "primes(30)"
   ]
  },
  {
   "cell_type": "markdown",
   "metadata": {},
   "source": [
    "## Zadanie 3 _(5pt)_\n",
    "\n",
    "Napisz funkcje, która usuwa wszystkie powtarzające się elementy z listy (tak, że każdy element występuje tylko raz) np. z listy `[1,1,2,2,2,3,3,5,5,5,4,4,4,0]` dostajemy `[1,2,3,5,4,0]`."
   ]
  },
  {
   "cell_type": "code",
   "execution_count": 4,
   "metadata": {},
   "outputs": [
    {
     "data": {
      "text/plain": [
       "[0, 1, 2, 3, 4, 5]"
      ]
     },
     "execution_count": 4,
     "metadata": {},
     "output_type": "execute_result"
    }
   ],
   "source": [
    "drop_uniques = lambda l : list(set(l)) # does not maintain order :(\n",
    "\n",
    "drop_uniques([1,1,2,2,2,3,3,5,5,5,4,4,4,0])"
   ]
  },
  {
   "cell_type": "markdown",
   "metadata": {},
   "source": [
    "## Zadanie 4 _(10pt)_\n",
    "\n",
    "Napisz funkcję `prime_factors(n)`, która rozkłada $n$ na czynniki pierwsze i jako wynik wraca listę par $[(p_1,\\alpha_1), (p_2,\\alpha_2), \\ldots, (p_k, \\alpha_k)]$ taką, że $p_1^{\\alpha_1}p_2^{\\alpha_2}\\ldots p_k^{\\alpha_k}$.\n"
   ]
  },
  {
   "cell_type": "code",
   "execution_count": 10,
   "metadata": {},
   "outputs": [
    {
     "data": {
      "text/plain": [
       "[(3, 1), (23, 1)]"
      ]
     },
     "execution_count": 10,
     "metadata": {},
     "output_type": "execute_result"
    }
   ],
   "source": [
    "def prime_factors(n):\n",
    "    factors = []\n",
    "    for i in range(2, n):\n",
    "        multiple = 0\n",
    "        while n % i == 0:\n",
    "            multiple += 1\n",
    "            n //= i\n",
    "        if multiple != 0:\n",
    "            factors.append((i, multiple))\n",
    "    return factors\n",
    "\n",
    "prime_factors(69)\n",
    "            "
   ]
  },
  {
   "cell_type": "markdown",
   "metadata": {},
   "source": [
    "## Zadanie 5 _(10pt)_\n",
    "\n",
    "Napisz funkcję `fraczero(n)` liczącą silnie $n!$ dla $n$ od $0$ do $10000$ oraz jako wynik wraca liczbę zer na końcu $n!$."
   ]
  },
  {
   "cell_type": "code",
   "execution_count": 13,
   "metadata": {},
   "outputs": [
    {
     "data": {
      "text/plain": [
       "1"
      ]
     },
     "execution_count": 13,
     "metadata": {},
     "output_type": "execute_result"
    }
   ],
   "source": [
    "from functools import reduce\n",
    "\n",
    "def fraczero(n):\n",
    "    if n == 0:\n",
    "        return 1\n",
    "    factorial = reduce(lambda a,b : a*b, range(1,n+1))\n",
    "    zeros = 0\n",
    "    while factorial % 10 == 0:\n",
    "        factorial //= 10\n",
    "        zeros += 1\n",
    "    return zeros\n",
    "\n",
    "fraczero(5)"
   ]
  },
  {
   "cell_type": "markdown",
   "metadata": {},
   "source": [
    "## Zadanie 6 _(10pt)_\n",
    "\n",
    "Napisz program, który generuje liczbę $20$ liczb losowych (rozkład jednostajny) od $1$ do $100$\n",
    "* Wyświetl listę wygenerowanych liczb\n",
    "* Wyświetl średnią\n",
    "* Wyświetl największą i najmniejszą wartość\n",
    "* Wyświetl drugą największą i drugą najmniejszą wartość na liście\n",
    "* Wyświetl ile jest liczb parzystych na liście\n",
    " "
   ]
  },
  {
   "cell_type": "code",
   "execution_count": 27,
   "metadata": {},
   "outputs": [
    {
     "name": "stdout",
     "output_type": "stream",
     "text": [
      "[53, 81, 36, 87, 16, 15, 35, 97, 51, 13, 48, 5, 66, 93, 68, 55, 99, 49, 92, 4]\n",
      "53.15\n",
      "99 4\n",
      "97 5\n",
      "7\n"
     ]
    }
   ],
   "source": [
    "from random import random\n",
    "import math\n",
    "\n",
    "numbers = [math.floor(random()*100) for _ in range(20)]\n",
    "print(numbers)\n",
    "numbers_sum = 0\n",
    "highest= numbers[0]\n",
    "lowest = numbers[0]\n",
    "prev_highest= numbers[0]\n",
    "prev_lowest = numbers[0]\n",
    "evens=0\n",
    "\n",
    "for num in numbers:\n",
    "    numbers_sum += num\n",
    "    if num > highest:\n",
    "        prev_highest = highest\n",
    "        highest = num\n",
    "    elif num < lowest:\n",
    "        prev_lowest = lowest\n",
    "        lowest = num\n",
    "    if num % 2 == 0:\n",
    "        evens += 1\n",
    "        \n",
    "print(numbers_sum/len(numbers))\n",
    "print(highest, lowest)\n",
    "print(prev_highest, prev_lowest)\n",
    "print(evens)"
   ]
  },
  {
   "cell_type": "markdown",
   "metadata": {},
   "source": [
    "## Zadanie 7 _(10pt)_\n",
    "\n",
    "Załóżmy, że mamy następującą listę: `L = ['aababacaa', 'cabaabcca', 'aaabbcbacb', 'acababbaab', ...]` wygenerowaną losowo tzn. lista zawiera losowe ciągi znaków o zadanej długości z liter `'a'`, `'b'` i `'c'`. Takie wzorce występują w wielu miejscach np. sekwencje DNA. Użytkownik zawiera swój (wzorzec) ciąg znaków z literami i pustymi miejscami oznaczonymi przez `'*'` np. `\"a**a******\"`. Wykorzystaj słownik z kluczami zawierającymi indeksy znaków różnych od `'*'` i wartościami liter z wzorca. Napisz program, który znajduje wszystkie sekwencje z listy, które pasuje do podanego wzorca."
   ]
  },
  {
   "cell_type": "code",
   "execution_count": 62,
   "metadata": {},
   "outputs": [
    {
     "name": "stdout",
     "output_type": "stream",
     "text": [
      "aababacaa\n"
     ]
    }
   ],
   "source": [
    "words = ['aababacaa', 'cabaabcca', 'aaabbcbacb', 'acababbaab']\n",
    "pattern = \"a**a******\"\n",
    "known_chars = {}\n",
    "for i, char in enumerate(pattern):\n",
    "    if char != '*':\n",
    "        known_chars[i] = char\n",
    "                    \n",
    "for word in words:\n",
    "    for i, char in known_chars.items():\n",
    "        if word[i] != char:\n",
    "            break\n",
    "    else:\n",
    "        print(word)\n",
    "        "
   ]
  },
  {
   "cell_type": "markdown",
   "metadata": {},
   "source": [
    "## Zadanie 8 _(10pt)_\n",
    "\n",
    "Napisz program, który konwerteruje liczby rzymskie na liczby arabskie. Do zapisu liczb rzymskich używa\n",
    "się 7 liter: `I=1`, `V=5`, `X=10`, `L=50`, `C=100`, `D=500`, `M=1000`. Opis algorytmu zamiany z i na system rzymski można znaleźć np. [tutaj](http://www.algorytm.org/algorytmy-arytmetyczne/zamiana-z-i-na-system-rzymski.html)"
   ]
  },
  {
   "cell_type": "code",
   "execution_count": 67,
   "metadata": {},
   "outputs": [
    {
     "data": {
      "text/plain": [
       "1209"
      ]
     },
     "execution_count": 67,
     "metadata": {},
     "output_type": "execute_result"
    }
   ],
   "source": [
    "def convert(roman):\n",
    "    numbers = {'I': 1, 'IV': 4, 'V': 5, 'IX': 9, 'X': 10, 'XL': 40, 'L': 50, 'XC': 90, 'C': 100, 'CD': 400, 'D': 500, 'CM': 900, 'M':1000}\n",
    "    result = 0\n",
    "    i = 0\n",
    "    while i<len(roman)-1:\n",
    "        compound = roman[i:i+2]\n",
    "        if compound in numbers:\n",
    "            result += numbers[compound]\n",
    "            i += 1\n",
    "        else:\n",
    "            result += numbers[roman[i]]\n",
    "        i += 1\n",
    "    if i != len(roman):\n",
    "        result += numbers[roman[i]]\n",
    "        \n",
    "    return result\n",
    "\n",
    "convert('MCCIX')"
   ]
  },
  {
   "cell_type": "markdown",
   "metadata": {},
   "source": [
    "## Zadanie 9* _(5pt)_\n",
    "\n",
    "Napisz program kalkulator, który pobiera wprowadzone wartości oraz funkcje z klawiatury następnie podaje wynik. W przypadku błędnych danych zgłasza błąd.\n",
    "\n",
    "Przykładowa sesja:\n",
    "```\n",
    "    Kalkulator\n",
    "    [1]: 2+5*10\n",
    "        52\n",
    "    [2]: sin(0.5)+cos(0.3)\n",
    "        1.434762027729809\n",
    "    [3]: 2^100\n",
    "        1267650600228229401496703205376\n",
    "```\n",
    "\n",
    "Przykładowy kod pobierania danych od użytkownika:\n",
    "\n",
    "```\n",
    "    x = input('Podaj x = ')\n",
    "```"
   ]
  },
  {
   "cell_type": "code",
   "execution_count": 69,
   "metadata": {},
   "outputs": [
    {
     "name": "stdout",
     "output_type": "stream",
     "text": [
      "x=10\n",
      "y=2\n",
      "operacja: -\n",
      "8.0\n"
     ]
    }
   ],
   "source": [
    "x = float(input('x='))\n",
    "y = float(input('y='))\n",
    "op = input('operacja: ')\n",
    "\n",
    "if op == '+':\n",
    "    print(x+y)\n",
    "elif op == '-':\n",
    "    print(x-y)\n",
    "elif op == '*':\n",
    "    print(x*y)\n",
    "elif op == '/':\n",
    "    print(x/y)\n",
    "elif op == '^':\n",
    "    print(x**y)\n",
    "else:\n",
    "    print('dozwolone operacje: + - * / ^')"
   ]
  },
  {
   "cell_type": "markdown",
   "metadata": {},
   "source": [
    "\n",
    "## Zadanie 10* _(10pt)_\n",
    "\n",
    "Napisz program, który rysuje na ekranie w trybie znakowym wykres funkcji zmiennej $x$. Wskazówka: utwórz  ,,tablicę dwuwymiarową'' o wymiarach 80x24 i narysuj wykres w tej tablicy. Następnie wynik wyświetl na ekranie.\n",
    "\n",
    "```\n",
    "        Podaj funkcje f(x) = sin(x)\n",
    "        Podaj początek przedziału a = -pi\n",
    "        Podaj koniec przedziału b = pi\n",
    "                                                |\n",
    "                                                |\n",
    "                                                |              ***********\n",
    "                                                |           ***           ***\n",
    "                                                |         **                 **\n",
    "                                                |        *                     *\n",
    "                                                |      **                       **\n",
    "                                                |     *                           *\n",
    "                                                |   **                             **\n",
    "                                                |  *                                 *\n",
    "                                                | *                                   *\n",
    "                                                |*                                     *\n",
    "        ----------------------------------------|---------------------------------------\n",
    "          *                                   * |\n",
    "           *                                 *  |\n",
    "            **                             **   |\n",
    "              *                           *     |\n",
    "               **                       **      |\n",
    "                 *                     *        |\n",
    "                  **                 **         |\n",
    "                    ***           ***           |\n",
    "                       ***** *****              |\n",
    "                            *                   |\n",
    "                                                |\n",
    "```"
   ]
  },
  {
   "cell_type": "code",
   "execution_count": 58,
   "metadata": {},
   "outputs": [
    {
     "name": "stdout",
     "output_type": "stream",
     "text": [
      "               ***                      |      ***                            **\n",
      "              *   *                     |     *   *                          *  \n",
      "                   *                    |    *     *                        *   \n",
      "             *      *                   |   *                                   \n",
      "            *                           |           *                      *    \n",
      "                     *                  |  *                                    \n",
      "           *                            |            *                    *     \n",
      "                      *                 | *                                     \n",
      "                                        |             *                  *      \n",
      "          *            *                |                                       \n",
      "                                        |*             *                        \n",
      "         *              *               |                               *       \n",
      "                                        *                                       \n",
      "        *                               |               *              *        \n",
      "                         *             *|                                       \n",
      "                                        |                *            *         \n",
      "       *                  *             |                                       \n",
      "                                      * |                 *                     \n",
      "------*--------------------*-----------------------------------------*----------\n",
      "                                     *  |                  *                    \n",
      "     *                      *           |                           *           \n",
      "                                    *   |                   *      *            \n",
      "    *                        *     *    |                    *                  \n",
      "   *                          *   *     |                     *   *             \n"
     ]
    }
   ],
   "source": [
    "from math import floor, sin, cos, tan, pi\n",
    "\n",
    "def plot(f, x0, x1):\n",
    "    height = 24\n",
    "    width = 80\n",
    "    points = [x0 - i/width * (x0 - x1) for i in range(width)]\n",
    "    vals = [f(x) for x in points]\n",
    "    yMax = max(vals)\n",
    "    yMin = min(vals)\n",
    "\n",
    "    for row in range(height):\n",
    "        for i, column in enumerate(points):\n",
    "            if row == round((yMax - vals[i])/(yMax - yMin) * height):\n",
    "                print('*', end='')\n",
    "            elif row == round(yMax / (yMax - yMin) * height):\n",
    "                print('-', end='')\n",
    "            elif i == round(x0 / (x0 - x1) * width):\n",
    "                print('|', end='')\n",
    "            else:\n",
    "                print(' ', end='')\n",
    "        print()\n",
    "    \n",
    "\n",
    "plot(lambda x : sin(x) + 0.5, -8, 8)"
   ]
  }
 ],
 "metadata": {
  "kernelspec": {
   "display_name": "Python 3",
   "language": "python",
   "name": "python3"
  },
  "language_info": {
   "codemirror_mode": {
    "name": "ipython",
    "version": 3
   },
   "file_extension": ".py",
   "mimetype": "text/x-python",
   "name": "python",
   "nbconvert_exporter": "python",
   "pygments_lexer": "ipython3",
   "version": "3.8.1"
  }
 },
 "nbformat": 4,
 "nbformat_minor": 2
}
